{
 "cells": [
  {
   "cell_type": "code",
   "execution_count": 44,
   "metadata": {
    "collapsed": true
   },
   "outputs": [],
   "source": [
    "%matplotlib inline\n",
    "import numpy as np\n",
    "import pandas as pd\n",
    "import fe_utility as feu\n",
    "import feather\n",
    "import paratext\n",
    "import matplotlib.pyplot as plt\n",
    "import seaborn as sns\n",
    "pd.set_option('display.float_format', lambda x: '%.3f' % x)\n",
    "import fe_utility as feu\n",
    "pd.set_option('max_rows', 100)"
   ]
  },
  {
   "cell_type": "markdown",
   "metadata": {},
   "source": [
    "# data manipulation to mache some week9 actual demand to week8 data points"
   ]
  },
  {
   "cell_type": "code",
   "execution_count": 2,
   "metadata": {
    "collapsed": true
   },
   "outputs": [],
   "source": [
    "test89=feather.read_dataframe('./data/test89_st84pred.feather')"
   ]
  },
  {
   "cell_type": "code",
   "execution_count": 3,
   "metadata": {},
   "outputs": [],
   "source": [
    "w8=test89.loc[test89.Semana==8]\n",
    "w9=test89.loc[test89.Semana==9].copy(deep=True)"
   ]
  },
  {
   "cell_type": "code",
   "execution_count": 4,
   "metadata": {
    "collapsed": true
   },
   "outputs": [],
   "source": [
    "cols=['Agencia_ID', 'Cliente_ID', 'Producto_ID']\n",
    "w8_acp_sum=w8.groupby(cols).agg({'Venta_uni_hoy':'sum',\n",
    "                                   'Venta_hoy':'sum',\n",
    "                                   'Dev_proxima':'sum',  \n",
    "                                   'Dev_uni_proxima':'sum',                                   \n",
    "                                  'Demanda_uni_equil':'sum',\n",
    "                                   'demand_pred':'sum'})\n",
    "\n",
    "\n",
    "w9_acp_sum=w9.groupby(cols).agg({'Venta_uni_hoy':'sum',\n",
    "                                   'Venta_hoy':'sum',\n",
    "                                   'Dev_proxima':'sum', \n",
    "                                   'Dev_uni_proxima':'sum',  \n",
    "                                   'Demanda_uni_equil':'sum',\n",
    "                                   'demand_pred':'sum'})\n"
   ]
  },
  {
   "cell_type": "code",
   "execution_count": 5,
   "metadata": {},
   "outputs": [],
   "source": [
    "w8_acp_sum.reset_index(inplace=True)\n",
    "w9_acp_sum.reset_index(inplace=True)"
   ]
  },
  {
   "cell_type": "code",
   "execution_count": 6,
   "metadata": {},
   "outputs": [
    {
     "data": {
      "text/html": [
       "<div>\n",
       "<table border=\"1\" class=\"dataframe\">\n",
       "  <thead>\n",
       "    <tr style=\"text-align: right;\">\n",
       "      <th></th>\n",
       "      <th>id</th>\n",
       "      <th>Semana</th>\n",
       "      <th>Agencia_ID</th>\n",
       "      <th>Canal_ID</th>\n",
       "      <th>Ruta_SAK</th>\n",
       "      <th>Cliente_ID</th>\n",
       "      <th>Producto_ID</th>\n",
       "      <th>Venta_uni_hoy</th>\n",
       "      <th>Venta_hoy</th>\n",
       "      <th>Dev_uni_proxima</th>\n",
       "      <th>Dev_proxima</th>\n",
       "      <th>Demanda_uni_equil</th>\n",
       "      <th>demand_pred</th>\n",
       "    </tr>\n",
       "  </thead>\n",
       "  <tbody>\n",
       "    <tr>\n",
       "      <th>0</th>\n",
       "      <td>53364883</td>\n",
       "      <td>8</td>\n",
       "      <td>1110</td>\n",
       "      <td>7</td>\n",
       "      <td>3301</td>\n",
       "      <td>15766</td>\n",
       "      <td>1212</td>\n",
       "      <td>4</td>\n",
       "      <td>33.520</td>\n",
       "      <td>0</td>\n",
       "      <td>0.000</td>\n",
       "      <td>4</td>\n",
       "      <td>3.754</td>\n",
       "    </tr>\n",
       "    <tr>\n",
       "      <th>1</th>\n",
       "      <td>53364884</td>\n",
       "      <td>8</td>\n",
       "      <td>1110</td>\n",
       "      <td>7</td>\n",
       "      <td>3301</td>\n",
       "      <td>15766</td>\n",
       "      <td>1216</td>\n",
       "      <td>5</td>\n",
       "      <td>41.900</td>\n",
       "      <td>0</td>\n",
       "      <td>0.000</td>\n",
       "      <td>5</td>\n",
       "      <td>2.150</td>\n",
       "    </tr>\n",
       "    <tr>\n",
       "      <th>2</th>\n",
       "      <td>53364885</td>\n",
       "      <td>8</td>\n",
       "      <td>1110</td>\n",
       "      <td>7</td>\n",
       "      <td>3301</td>\n",
       "      <td>15766</td>\n",
       "      <td>1220</td>\n",
       "      <td>1</td>\n",
       "      <td>7.640</td>\n",
       "      <td>0</td>\n",
       "      <td>0.000</td>\n",
       "      <td>1</td>\n",
       "      <td>2.880</td>\n",
       "    </tr>\n",
       "    <tr>\n",
       "      <th>3</th>\n",
       "      <td>53364886</td>\n",
       "      <td>8</td>\n",
       "      <td>1110</td>\n",
       "      <td>7</td>\n",
       "      <td>3301</td>\n",
       "      <td>15766</td>\n",
       "      <td>1238</td>\n",
       "      <td>3</td>\n",
       "      <td>29.490</td>\n",
       "      <td>0</td>\n",
       "      <td>0.000</td>\n",
       "      <td>3</td>\n",
       "      <td>2.126</td>\n",
       "    </tr>\n",
       "    <tr>\n",
       "      <th>4</th>\n",
       "      <td>53364887</td>\n",
       "      <td>8</td>\n",
       "      <td>1110</td>\n",
       "      <td>7</td>\n",
       "      <td>3301</td>\n",
       "      <td>15766</td>\n",
       "      <td>1240</td>\n",
       "      <td>2</td>\n",
       "      <td>16.760</td>\n",
       "      <td>0</td>\n",
       "      <td>0.000</td>\n",
       "      <td>2</td>\n",
       "      <td>5.832</td>\n",
       "    </tr>\n",
       "    <tr>\n",
       "      <th>5</th>\n",
       "      <td>53364888</td>\n",
       "      <td>8</td>\n",
       "      <td>1110</td>\n",
       "      <td>7</td>\n",
       "      <td>3301</td>\n",
       "      <td>15766</td>\n",
       "      <td>1242</td>\n",
       "      <td>1</td>\n",
       "      <td>7.640</td>\n",
       "      <td>0</td>\n",
       "      <td>0.000</td>\n",
       "      <td>1</td>\n",
       "      <td>2.583</td>\n",
       "    </tr>\n",
       "    <tr>\n",
       "      <th>6</th>\n",
       "      <td>53364889</td>\n",
       "      <td>8</td>\n",
       "      <td>1110</td>\n",
       "      <td>7</td>\n",
       "      <td>3301</td>\n",
       "      <td>15766</td>\n",
       "      <td>1250</td>\n",
       "      <td>8</td>\n",
       "      <td>61.120</td>\n",
       "      <td>0</td>\n",
       "      <td>0.000</td>\n",
       "      <td>8</td>\n",
       "      <td>5.701</td>\n",
       "    </tr>\n",
       "    <tr>\n",
       "      <th>7</th>\n",
       "      <td>53364890</td>\n",
       "      <td>8</td>\n",
       "      <td>1110</td>\n",
       "      <td>7</td>\n",
       "      <td>3301</td>\n",
       "      <td>15766</td>\n",
       "      <td>1309</td>\n",
       "      <td>3</td>\n",
       "      <td>20.280</td>\n",
       "      <td>0</td>\n",
       "      <td>0.000</td>\n",
       "      <td>3</td>\n",
       "      <td>4.858</td>\n",
       "    </tr>\n",
       "    <tr>\n",
       "      <th>8</th>\n",
       "      <td>53364891</td>\n",
       "      <td>8</td>\n",
       "      <td>1110</td>\n",
       "      <td>7</td>\n",
       "      <td>3301</td>\n",
       "      <td>15766</td>\n",
       "      <td>3894</td>\n",
       "      <td>2</td>\n",
       "      <td>18.700</td>\n",
       "      <td>0</td>\n",
       "      <td>0.000</td>\n",
       "      <td>2</td>\n",
       "      <td>5.006</td>\n",
       "    </tr>\n",
       "    <tr>\n",
       "      <th>9</th>\n",
       "      <td>53364892</td>\n",
       "      <td>8</td>\n",
       "      <td>1110</td>\n",
       "      <td>7</td>\n",
       "      <td>3301</td>\n",
       "      <td>15766</td>\n",
       "      <td>30531</td>\n",
       "      <td>17</td>\n",
       "      <td>132.260</td>\n",
       "      <td>0</td>\n",
       "      <td>0.000</td>\n",
       "      <td>17</td>\n",
       "      <td>9.109</td>\n",
       "    </tr>\n",
       "    <tr>\n",
       "      <th>10</th>\n",
       "      <td>53364893</td>\n",
       "      <td>8</td>\n",
       "      <td>1110</td>\n",
       "      <td>7</td>\n",
       "      <td>3301</td>\n",
       "      <td>15766</td>\n",
       "      <td>30548</td>\n",
       "      <td>3</td>\n",
       "      <td>16.140</td>\n",
       "      <td>0</td>\n",
       "      <td>0.000</td>\n",
       "      <td>3</td>\n",
       "      <td>3.459</td>\n",
       "    </tr>\n",
       "    <tr>\n",
       "      <th>11</th>\n",
       "      <td>53364894</td>\n",
       "      <td>8</td>\n",
       "      <td>1110</td>\n",
       "      <td>7</td>\n",
       "      <td>3301</td>\n",
       "      <td>15766</td>\n",
       "      <td>31309</td>\n",
       "      <td>8</td>\n",
       "      <td>50.000</td>\n",
       "      <td>0</td>\n",
       "      <td>0.000</td>\n",
       "      <td>8</td>\n",
       "      <td>7.250</td>\n",
       "    </tr>\n",
       "    <tr>\n",
       "      <th>12</th>\n",
       "      <td>53364895</td>\n",
       "      <td>8</td>\n",
       "      <td>1110</td>\n",
       "      <td>7</td>\n",
       "      <td>3301</td>\n",
       "      <td>15766</td>\n",
       "      <td>31506</td>\n",
       "      <td>9</td>\n",
       "      <td>56.250</td>\n",
       "      <td>0</td>\n",
       "      <td>0.000</td>\n",
       "      <td>9</td>\n",
       "      <td>5.181</td>\n",
       "    </tr>\n",
       "    <tr>\n",
       "      <th>13</th>\n",
       "      <td>53364896</td>\n",
       "      <td>8</td>\n",
       "      <td>1110</td>\n",
       "      <td>7</td>\n",
       "      <td>3301</td>\n",
       "      <td>15766</td>\n",
       "      <td>31688</td>\n",
       "      <td>4</td>\n",
       "      <td>26.000</td>\n",
       "      <td>0</td>\n",
       "      <td>0.000</td>\n",
       "      <td>4</td>\n",
       "      <td>4.598</td>\n",
       "    </tr>\n",
       "    <tr>\n",
       "      <th>14</th>\n",
       "      <td>53364897</td>\n",
       "      <td>8</td>\n",
       "      <td>1110</td>\n",
       "      <td>7</td>\n",
       "      <td>3301</td>\n",
       "      <td>15766</td>\n",
       "      <td>32393</td>\n",
       "      <td>2</td>\n",
       "      <td>6.040</td>\n",
       "      <td>0</td>\n",
       "      <td>0.000</td>\n",
       "      <td>2</td>\n",
       "      <td>8.656</td>\n",
       "    </tr>\n",
       "    <tr>\n",
       "      <th>15</th>\n",
       "      <td>53364898</td>\n",
       "      <td>8</td>\n",
       "      <td>1110</td>\n",
       "      <td>7</td>\n",
       "      <td>3301</td>\n",
       "      <td>15766</td>\n",
       "      <td>32819</td>\n",
       "      <td>4</td>\n",
       "      <td>35.560</td>\n",
       "      <td>0</td>\n",
       "      <td>0.000</td>\n",
       "      <td>4</td>\n",
       "      <td>3.560</td>\n",
       "    </tr>\n",
       "    <tr>\n",
       "      <th>16</th>\n",
       "      <td>53364899</td>\n",
       "      <td>8</td>\n",
       "      <td>1110</td>\n",
       "      <td>7</td>\n",
       "      <td>3301</td>\n",
       "      <td>15766</td>\n",
       "      <td>32936</td>\n",
       "      <td>2</td>\n",
       "      <td>14.080</td>\n",
       "      <td>0</td>\n",
       "      <td>0.000</td>\n",
       "      <td>2</td>\n",
       "      <td>2.849</td>\n",
       "    </tr>\n",
       "    <tr>\n",
       "      <th>17</th>\n",
       "      <td>53364900</td>\n",
       "      <td>8</td>\n",
       "      <td>1110</td>\n",
       "      <td>7</td>\n",
       "      <td>3301</td>\n",
       "      <td>15766</td>\n",
       "      <td>35303</td>\n",
       "      <td>15</td>\n",
       "      <td>93.750</td>\n",
       "      <td>0</td>\n",
       "      <td>0.000</td>\n",
       "      <td>15</td>\n",
       "      <td>6.415</td>\n",
       "    </tr>\n",
       "    <tr>\n",
       "      <th>18</th>\n",
       "      <td>53364901</td>\n",
       "      <td>8</td>\n",
       "      <td>1110</td>\n",
       "      <td>7</td>\n",
       "      <td>3301</td>\n",
       "      <td>15766</td>\n",
       "      <td>35452</td>\n",
       "      <td>6</td>\n",
       "      <td>26.640</td>\n",
       "      <td>0</td>\n",
       "      <td>0.000</td>\n",
       "      <td>6</td>\n",
       "      <td>4.645</td>\n",
       "    </tr>\n",
       "    <tr>\n",
       "      <th>19</th>\n",
       "      <td>53364902</td>\n",
       "      <td>8</td>\n",
       "      <td>1110</td>\n",
       "      <td>7</td>\n",
       "      <td>3301</td>\n",
       "      <td>15766</td>\n",
       "      <td>35455</td>\n",
       "      <td>5</td>\n",
       "      <td>22.700</td>\n",
       "      <td>0</td>\n",
       "      <td>0.000</td>\n",
       "      <td>5</td>\n",
       "      <td>4.059</td>\n",
       "    </tr>\n",
       "  </tbody>\n",
       "</table>\n",
       "</div>"
      ],
      "text/plain": [
       "          id  Semana  Agencia_ID  Canal_ID  Ruta_SAK  Cliente_ID  Producto_ID  \\\n",
       "0   53364883       8        1110         7      3301       15766         1212   \n",
       "1   53364884       8        1110         7      3301       15766         1216   \n",
       "2   53364885       8        1110         7      3301       15766         1220   \n",
       "3   53364886       8        1110         7      3301       15766         1238   \n",
       "4   53364887       8        1110         7      3301       15766         1240   \n",
       "5   53364888       8        1110         7      3301       15766         1242   \n",
       "6   53364889       8        1110         7      3301       15766         1250   \n",
       "7   53364890       8        1110         7      3301       15766         1309   \n",
       "8   53364891       8        1110         7      3301       15766         3894   \n",
       "9   53364892       8        1110         7      3301       15766        30531   \n",
       "10  53364893       8        1110         7      3301       15766        30548   \n",
       "11  53364894       8        1110         7      3301       15766        31309   \n",
       "12  53364895       8        1110         7      3301       15766        31506   \n",
       "13  53364896       8        1110         7      3301       15766        31688   \n",
       "14  53364897       8        1110         7      3301       15766        32393   \n",
       "15  53364898       8        1110         7      3301       15766        32819   \n",
       "16  53364899       8        1110         7      3301       15766        32936   \n",
       "17  53364900       8        1110         7      3301       15766        35303   \n",
       "18  53364901       8        1110         7      3301       15766        35452   \n",
       "19  53364902       8        1110         7      3301       15766        35455   \n",
       "\n",
       "    Venta_uni_hoy  Venta_hoy  Dev_uni_proxima  Dev_proxima  Demanda_uni_equil  \\\n",
       "0               4     33.520                0        0.000                  4   \n",
       "1               5     41.900                0        0.000                  5   \n",
       "2               1      7.640                0        0.000                  1   \n",
       "3               3     29.490                0        0.000                  3   \n",
       "4               2     16.760                0        0.000                  2   \n",
       "5               1      7.640                0        0.000                  1   \n",
       "6               8     61.120                0        0.000                  8   \n",
       "7               3     20.280                0        0.000                  3   \n",
       "8               2     18.700                0        0.000                  2   \n",
       "9              17    132.260                0        0.000                 17   \n",
       "10              3     16.140                0        0.000                  3   \n",
       "11              8     50.000                0        0.000                  8   \n",
       "12              9     56.250                0        0.000                  9   \n",
       "13              4     26.000                0        0.000                  4   \n",
       "14              2      6.040                0        0.000                  2   \n",
       "15              4     35.560                0        0.000                  4   \n",
       "16              2     14.080                0        0.000                  2   \n",
       "17             15     93.750                0        0.000                 15   \n",
       "18              6     26.640                0        0.000                  6   \n",
       "19              5     22.700                0        0.000                  5   \n",
       "\n",
       "    demand_pred  \n",
       "0         3.754  \n",
       "1         2.150  \n",
       "2         2.880  \n",
       "3         2.126  \n",
       "4         5.832  \n",
       "5         2.583  \n",
       "6         5.701  \n",
       "7         4.858  \n",
       "8         5.006  \n",
       "9         9.109  \n",
       "10        3.459  \n",
       "11        7.250  \n",
       "12        5.181  \n",
       "13        4.598  \n",
       "14        8.656  \n",
       "15        3.560  \n",
       "16        2.849  \n",
       "17        6.415  \n",
       "18        4.645  \n",
       "19        4.059  "
      ]
     },
     "execution_count": 6,
     "metadata": {},
     "output_type": "execute_result"
    }
   ],
   "source": [
    "test89.head(20)"
   ]
  },
  {
   "cell_type": "code",
   "execution_count": 8,
   "metadata": {},
   "outputs": [
    {
     "name": "stdout",
     "output_type": "stream",
     "text": [
      "(10408713, 13)\n",
      "(10390376, 9)\n"
     ]
    }
   ],
   "source": [
    "print(w9.shape)\n",
    "print(w9_acp_sum.shape)"
   ]
  },
  {
   "cell_type": "code",
   "execution_count": null,
   "metadata": {
    "collapsed": true
   },
   "outputs": [],
   "source": []
  },
  {
   "cell_type": "code",
   "execution_count": 9,
   "metadata": {},
   "outputs": [],
   "source": [
    "w9_acp_sum['actual_unit']=w9_acp_sum['Venta_uni_hoy']-w9_acp_sum['Dev_uni_proxima']\n",
    "w9_acp_sum['actual_value']=w9_acp_sum['Venta_hoy']-w9_acp_sum['Dev_proxima']"
   ]
  },
  {
   "cell_type": "code",
   "execution_count": 10,
   "metadata": {},
   "outputs": [
    {
     "data": {
      "text/html": [
       "<div>\n",
       "<table border=\"1\" class=\"dataframe\">\n",
       "  <thead>\n",
       "    <tr style=\"text-align: right;\">\n",
       "      <th></th>\n",
       "      <th>actual_unit</th>\n",
       "      <th>actual_value</th>\n",
       "    </tr>\n",
       "  </thead>\n",
       "  <tbody>\n",
       "    <tr>\n",
       "      <th>0</th>\n",
       "      <td>1</td>\n",
       "      <td>8.380</td>\n",
       "    </tr>\n",
       "    <tr>\n",
       "      <th>1</th>\n",
       "      <td>2</td>\n",
       "      <td>19.660</td>\n",
       "    </tr>\n",
       "    <tr>\n",
       "      <th>2</th>\n",
       "      <td>2</td>\n",
       "      <td>16.760</td>\n",
       "    </tr>\n",
       "    <tr>\n",
       "      <th>3</th>\n",
       "      <td>1</td>\n",
       "      <td>7.640</td>\n",
       "    </tr>\n",
       "    <tr>\n",
       "      <th>4</th>\n",
       "      <td>10</td>\n",
       "      <td>76.400</td>\n",
       "    </tr>\n",
       "  </tbody>\n",
       "</table>\n",
       "</div>"
      ],
      "text/plain": [
       "   actual_unit  actual_value\n",
       "0            1         8.380\n",
       "1            2        19.660\n",
       "2            2        16.760\n",
       "3            1         7.640\n",
       "4           10        76.400"
      ]
     },
     "execution_count": 10,
     "metadata": {},
     "output_type": "execute_result"
    }
   ],
   "source": [
    "w9_acp_sum[['actual_unit', 'actual_value']].head()"
   ]
  },
  {
   "cell_type": "code",
   "execution_count": 11,
   "metadata": {},
   "outputs": [],
   "source": [
    "w8_acp_sum=pd.merge(w8_acp_sum, w9_acp_sum[['Agencia_ID', 'Cliente_ID', 'Producto_ID',\n",
    "                                            'actual_unit', 'actual_value']], how='left', on=cols)\n",
    "w8_acp_sum.fillna(0, inplace=True)"
   ]
  },
  {
   "cell_type": "code",
   "execution_count": 12,
   "metadata": {},
   "outputs": [
    {
     "data": {
      "text/plain": [
       "count   10388368.000\n",
       "mean           5.702\n",
       "std           35.759\n",
       "min            0.000\n",
       "25%            0.000\n",
       "50%            2.000\n",
       "75%            5.000\n",
       "max        24928.000\n",
       "Name: actual_unit, dtype: float64"
      ]
     },
     "execution_count": 12,
     "metadata": {},
     "output_type": "execute_result"
    }
   ],
   "source": [
    "w8_acp_sum.loc[w8_acp_sum.actual_unit<0, 'actual_unit']=0\n",
    "w8_acp_sum.actual_unit.describe()"
   ]
  },
  {
   "cell_type": "code",
   "execution_count": 13,
   "metadata": {
    "collapsed": true
   },
   "outputs": [],
   "source": [
    "w8_acp_sum['demand_pred']=w8_acp_sum['demand_pred'].astype(int)\n",
    "w8_acp_sum['human_delta']=(w8_acp_sum.Demanda_uni_equil-w8_acp_sum.actual_unit).astype(int)\n",
    "w8_acp_sum['machine_delta']=(w8_acp_sum.demand_pred-w8_acp_sum.actual_unit).astype(int)"
   ]
  },
  {
   "cell_type": "code",
   "execution_count": 14,
   "metadata": {},
   "outputs": [
    {
     "name": "stdout",
     "output_type": "stream",
     "text": [
      "<class 'pandas.core.frame.DataFrame'>\n",
      "Int64Index: 10388368 entries, 0 to 10388367\n",
      "Data columns (total 13 columns):\n",
      "Agencia_ID           int64\n",
      "Cliente_ID           int64\n",
      "Producto_ID          int64\n",
      "Demanda_uni_equil    int16\n",
      "Venta_hoy            float32\n",
      "Dev_uni_proxima      int32\n",
      "demand_pred          int64\n",
      "Dev_proxima          float32\n",
      "Venta_uni_hoy        int16\n",
      "actual_unit          float64\n",
      "actual_value         float32\n",
      "human_delta          int64\n",
      "machine_delta        int64\n",
      "dtypes: float32(3), float64(1), int16(2), int32(1), int64(6)\n",
      "memory usage: 832.2 MB\n"
     ]
    }
   ],
   "source": [
    "w8_acp_sum.info()"
   ]
  },
  {
   "cell_type": "code",
   "execution_count": 15,
   "metadata": {},
   "outputs": [
    {
     "data": {
      "text/html": [
       "<div>\n",
       "<table border=\"1\" class=\"dataframe\">\n",
       "  <thead>\n",
       "    <tr style=\"text-align: right;\">\n",
       "      <th></th>\n",
       "      <th>Demanda_uni_equil</th>\n",
       "      <th>demand_pred</th>\n",
       "      <th>actual_unit</th>\n",
       "      <th>human_delta</th>\n",
       "      <th>machine_delta</th>\n",
       "    </tr>\n",
       "  </thead>\n",
       "  <tbody>\n",
       "    <tr>\n",
       "      <th>650647</th>\n",
       "      <td>1</td>\n",
       "      <td>1</td>\n",
       "      <td>1.000</td>\n",
       "      <td>0</td>\n",
       "      <td>0</td>\n",
       "    </tr>\n",
       "    <tr>\n",
       "      <th>2390079</th>\n",
       "      <td>7</td>\n",
       "      <td>2</td>\n",
       "      <td>3.000</td>\n",
       "      <td>4</td>\n",
       "      <td>-1</td>\n",
       "    </tr>\n",
       "    <tr>\n",
       "      <th>3983858</th>\n",
       "      <td>2</td>\n",
       "      <td>10</td>\n",
       "      <td>0.000</td>\n",
       "      <td>2</td>\n",
       "      <td>10</td>\n",
       "    </tr>\n",
       "    <tr>\n",
       "      <th>9345440</th>\n",
       "      <td>2</td>\n",
       "      <td>2</td>\n",
       "      <td>3.000</td>\n",
       "      <td>-1</td>\n",
       "      <td>-1</td>\n",
       "    </tr>\n",
       "    <tr>\n",
       "      <th>8201258</th>\n",
       "      <td>4</td>\n",
       "      <td>4</td>\n",
       "      <td>3.000</td>\n",
       "      <td>1</td>\n",
       "      <td>1</td>\n",
       "    </tr>\n",
       "    <tr>\n",
       "      <th>8738664</th>\n",
       "      <td>5</td>\n",
       "      <td>5</td>\n",
       "      <td>8.000</td>\n",
       "      <td>-3</td>\n",
       "      <td>-3</td>\n",
       "    </tr>\n",
       "    <tr>\n",
       "      <th>10221753</th>\n",
       "      <td>15</td>\n",
       "      <td>15</td>\n",
       "      <td>23.000</td>\n",
       "      <td>-8</td>\n",
       "      <td>-8</td>\n",
       "    </tr>\n",
       "    <tr>\n",
       "      <th>10198896</th>\n",
       "      <td>2</td>\n",
       "      <td>4</td>\n",
       "      <td>0.000</td>\n",
       "      <td>2</td>\n",
       "      <td>4</td>\n",
       "    </tr>\n",
       "    <tr>\n",
       "      <th>343390</th>\n",
       "      <td>7</td>\n",
       "      <td>6</td>\n",
       "      <td>10.000</td>\n",
       "      <td>-3</td>\n",
       "      <td>-4</td>\n",
       "    </tr>\n",
       "    <tr>\n",
       "      <th>2213083</th>\n",
       "      <td>8</td>\n",
       "      <td>4</td>\n",
       "      <td>5.000</td>\n",
       "      <td>3</td>\n",
       "      <td>-1</td>\n",
       "    </tr>\n",
       "    <tr>\n",
       "      <th>8049609</th>\n",
       "      <td>1</td>\n",
       "      <td>2</td>\n",
       "      <td>2.000</td>\n",
       "      <td>-1</td>\n",
       "      <td>0</td>\n",
       "    </tr>\n",
       "    <tr>\n",
       "      <th>9399331</th>\n",
       "      <td>6</td>\n",
       "      <td>5</td>\n",
       "      <td>0.000</td>\n",
       "      <td>6</td>\n",
       "      <td>5</td>\n",
       "    </tr>\n",
       "    <tr>\n",
       "      <th>4696434</th>\n",
       "      <td>21</td>\n",
       "      <td>29</td>\n",
       "      <td>0.000</td>\n",
       "      <td>21</td>\n",
       "      <td>29</td>\n",
       "    </tr>\n",
       "    <tr>\n",
       "      <th>3874395</th>\n",
       "      <td>4</td>\n",
       "      <td>2</td>\n",
       "      <td>1.000</td>\n",
       "      <td>3</td>\n",
       "      <td>1</td>\n",
       "    </tr>\n",
       "    <tr>\n",
       "      <th>6063495</th>\n",
       "      <td>10</td>\n",
       "      <td>8</td>\n",
       "      <td>10.000</td>\n",
       "      <td>0</td>\n",
       "      <td>-2</td>\n",
       "    </tr>\n",
       "    <tr>\n",
       "      <th>7256422</th>\n",
       "      <td>5</td>\n",
       "      <td>9</td>\n",
       "      <td>10.000</td>\n",
       "      <td>-5</td>\n",
       "      <td>-1</td>\n",
       "    </tr>\n",
       "    <tr>\n",
       "      <th>4064515</th>\n",
       "      <td>4</td>\n",
       "      <td>2</td>\n",
       "      <td>3.000</td>\n",
       "      <td>1</td>\n",
       "      <td>-1</td>\n",
       "    </tr>\n",
       "    <tr>\n",
       "      <th>4989644</th>\n",
       "      <td>5</td>\n",
       "      <td>19</td>\n",
       "      <td>10.000</td>\n",
       "      <td>-5</td>\n",
       "      <td>9</td>\n",
       "    </tr>\n",
       "    <tr>\n",
       "      <th>2426119</th>\n",
       "      <td>1</td>\n",
       "      <td>1</td>\n",
       "      <td>0.000</td>\n",
       "      <td>1</td>\n",
       "      <td>1</td>\n",
       "    </tr>\n",
       "    <tr>\n",
       "      <th>4838989</th>\n",
       "      <td>3</td>\n",
       "      <td>4</td>\n",
       "      <td>5.000</td>\n",
       "      <td>-2</td>\n",
       "      <td>-1</td>\n",
       "    </tr>\n",
       "  </tbody>\n",
       "</table>\n",
       "</div>"
      ],
      "text/plain": [
       "          Demanda_uni_equil  demand_pred  actual_unit  human_delta  \\\n",
       "650647                    1            1        1.000            0   \n",
       "2390079                   7            2        3.000            4   \n",
       "3983858                   2           10        0.000            2   \n",
       "9345440                   2            2        3.000           -1   \n",
       "8201258                   4            4        3.000            1   \n",
       "8738664                   5            5        8.000           -3   \n",
       "10221753                 15           15       23.000           -8   \n",
       "10198896                  2            4        0.000            2   \n",
       "343390                    7            6       10.000           -3   \n",
       "2213083                   8            4        5.000            3   \n",
       "8049609                   1            2        2.000           -1   \n",
       "9399331                   6            5        0.000            6   \n",
       "4696434                  21           29        0.000           21   \n",
       "3874395                   4            2        1.000            3   \n",
       "6063495                  10            8       10.000            0   \n",
       "7256422                   5            9       10.000           -5   \n",
       "4064515                   4            2        3.000            1   \n",
       "4989644                   5           19       10.000           -5   \n",
       "2426119                   1            1        0.000            1   \n",
       "4838989                   3            4        5.000           -2   \n",
       "\n",
       "          machine_delta  \n",
       "650647                0  \n",
       "2390079              -1  \n",
       "3983858              10  \n",
       "9345440              -1  \n",
       "8201258               1  \n",
       "8738664              -3  \n",
       "10221753             -8  \n",
       "10198896              4  \n",
       "343390               -4  \n",
       "2213083              -1  \n",
       "8049609               0  \n",
       "9399331               5  \n",
       "4696434              29  \n",
       "3874395               1  \n",
       "6063495              -2  \n",
       "7256422              -1  \n",
       "4064515              -1  \n",
       "4989644               9  \n",
       "2426119               1  \n",
       "4838989              -1  "
      ]
     },
     "execution_count": 15,
     "metadata": {},
     "output_type": "execute_result"
    }
   ],
   "source": [
    "w8_acp_sum[['Demanda_uni_equil','demand_pred','actual_unit', 'human_delta', 'machine_delta']].sample(20)"
   ]
  },
  {
   "cell_type": "code",
   "execution_count": 16,
   "metadata": {},
   "outputs": [
    {
     "data": {
      "text/plain": [
       "Demanda_uni_equil    7.270\n",
       "demand_pred          5.655\n",
       "actual_unit          5.702\n",
       "human_delta          1.568\n",
       "machine_delta       -0.047\n",
       "dtype: float64"
      ]
     },
     "execution_count": 16,
     "metadata": {},
     "output_type": "execute_result"
    }
   ],
   "source": [
    "w8_acp_sum[['Demanda_uni_equil','demand_pred','actual_unit', 'human_delta', 'machine_delta']].mean()"
   ]
  },
  {
   "cell_type": "code",
   "execution_count": 17,
   "metadata": {},
   "outputs": [
    {
     "name": "stdout",
     "output_type": "stream",
     "text": [
      "16289397\n",
      "-487675\n"
     ]
    }
   ],
   "source": [
    "print(w8_acp_sum.human_delta.sum())\n",
    "print(w8_acp_sum.machine_delta.sum())"
   ]
  },
  {
   "cell_type": "code",
   "execution_count": 18,
   "metadata": {},
   "outputs": [
    {
     "name": "stdout",
     "output_type": "stream",
     "text": [
      "1.56804196771\n",
      "-0.0469443323533\n"
     ]
    }
   ],
   "source": [
    "print(w8_acp_sum.human_delta.mean())\n",
    "print(w8_acp_sum.machine_delta.mean())"
   ]
  },
  {
   "cell_type": "code",
   "execution_count": 19,
   "metadata": {},
   "outputs": [
    {
     "data": {
      "image/png": "[encoded data removed]",
      "text/plain": [
       "<matplotlib.figure.Figure at 0x7fc96e4ecbe0>"
      ]
     },
     "metadata": {},
     "output_type": "display_data"
    }
   ],
   "source": [
    "from scipy.stats import norm\n",
    "plt.figure(figsize=(15, 10))\n",
    "# sns.distplot(w8_acp_sum.human_delta, kde=True)\n",
    "sns.set_color_codes()\n",
    "\n",
    "threshold=30\n",
    "binsize = np.arange(-threshold,threshold,1)\n",
    "\n",
    "ax=sns.distplot(w8_acp_sum.loc[pd.Series.abs(w8_acp_sum.human_delta)<=threshold].human_delta, \n",
    "             kde=False, hist=True, color='g', label='human', bins=binsize)\n",
    "\n",
    "ax=sns.distplot(w8_acp_sum.loc[pd.Series.abs(w8_acp_sum.machine_delta)<=threshold].machine_delta, \n",
    "             kde=False, hist=True, color='y', label='machine', bins=binsize)\n",
    "\n",
    "ax.set_xlabel('human v.s. machine')\n",
    "ax.legend()\n",
    "plt.show()"
   ]
  },
  {
   "cell_type": "code",
   "execution_count": 20,
   "metadata": {
    "collapsed": true
   },
   "outputs": [],
   "source": [
    "threshold=30\n",
    "hd=w8_acp_sum.loc[pd.Series.abs(w8_acp_sum.human_delta)<=threshold].human_delta\n",
    "md=w8_acp_sum.loc[pd.Series.abs(w8_acp_sum.machine_delta)<=threshold].machine_delta\n"
   ]
  },
  {
   "cell_type": "code",
   "execution_count": 41,
   "metadata": {},
   "outputs": [],
   "source": [
    "hdvc=pd.DataFrame(hd.value_counts()).reset_index()\n",
    "hdvc.columns=['delta_value', 'human_delta']\n",
    "hdvc.sort_values(by='delta_value', inplace=True,ascending=True)"
   ]
  },
  {
   "cell_type": "code",
   "execution_count": 46,
   "metadata": {},
   "outputs": [],
   "source": [
    "mdvc=pd.DataFrame(md.value_counts()).reset_index()\n",
    "mdvc.columns=['delta_value', 'machine_delta']\n",
    "mdvc.sort_values(by='delta_value', inplace=True,ascending=True)"
   ]
  },
  {
   "cell_type": "code",
   "execution_count": 54,
   "metadata": {},
   "outputs": [
    {
     "data": {
      "text/plain": [
       "10283598"
      ]
     },
     "execution_count": 54,
     "metadata": {},
     "output_type": "execute_result"
    }
   ],
   "source": [
    "mdvc.machine_delta.sum()"
   ]
  },
  {
   "cell_type": "code",
   "execution_count": 55,
   "metadata": {},
   "outputs": [
    {
     "data": {
      "text/plain": [
       "10244596"
      ]
     },
     "execution_count": 55,
     "metadata": {},
     "output_type": "execute_result"
    }
   ],
   "source": [
    "hdvc.human_delta.sum()"
   ]
  },
  {
   "cell_type": "code",
   "execution_count": 51,
   "metadata": {},
   "outputs": [],
   "source": [
    "dvc=pd.merge(hdvc, mdvc, how='left', on='delta_value')"
   ]
  },
  {
   "cell_type": "code",
   "execution_count": 53,
   "metadata": {},
   "outputs": [],
   "source": [
    "dvc.to_csv('delta_value_count.csv', index=False)"
   ]
  },
  {
   "cell_type": "code",
   "execution_count": 19,
   "metadata": {},
   "outputs": [
    {
     "data": {
      "text/plain": [
       "762656"
      ]
     },
     "execution_count": 19,
     "metadata": {},
     "output_type": "execute_result"
    }
   ],
   "source": [
    "w8_acp_sum.Cliente_ID.nunique()"
   ]
  },
  {
   "cell_type": "code",
   "execution_count": 22,
   "metadata": {},
   "outputs": [
    {
     "data": {
      "text/plain": [
       "(10388368, 13)"
      ]
     },
     "execution_count": 22,
     "metadata": {},
     "output_type": "execute_result"
    }
   ],
   "source": [
    "w8_acp_sum.shape"
   ]
  },
  {
   "cell_type": "markdown",
   "metadata": {},
   "source": [
    "# Human v.s. Machine comparison 1: RMSLE"
   ]
  },
  {
   "cell_type": "code",
   "execution_count": 22,
   "metadata": {},
   "outputs": [
    {
     "name": "stdout",
     "output_type": "stream",
     "text": [
      "human score is 0.991535\n",
      "machine score is 0.895287\n"
     ]
    }
   ],
   "source": [
    "# this will give invalid result unless negative value from actual_unit is removed.\n",
    "\n",
    "human=feu.rmsle(w8_acp_sum.Demanda_uni_equil, w8_acp_sum.actual_unit)\n",
    "machine=feu.rmsle(w8_acp_sum.demand_pred, w8_acp_sum.actual_unit)\n",
    "\n",
    "print(\"human score is %.6f\" %human)\n",
    "print(\"machine score is %.6f\" %machine)\n",
    "\n"
   ]
  },
  {
   "cell_type": "markdown",
   "metadata": {},
   "source": [
    "# Human v.s. Machine comparison 2: sum of unit delta between actual demand "
   ]
  },
  {
   "cell_type": "code",
   "execution_count": 22,
   "metadata": {},
   "outputs": [
    {
     "name": "stdout",
     "output_type": "stream",
     "text": [
      "5747486\n"
     ]
    }
   ],
   "source": [
    "human_abs_delta=pd.Series.abs(w8_acp_sum.human_delta).sum()\n",
    "machine_abs_delta=pd.Series.abs(w8_acp_sum.machine_delta).sum()\n",
    "\n",
    "human_machine_abs_delta=human_abs_delta-machine_abs_delta\n",
    "print(human_machine_abs_delta)"
   ]
  },
  {
   "cell_type": "code",
   "execution_count": 23,
   "metadata": {},
   "outputs": [
    {
     "name": "stdout",
     "output_type": "stream",
     "text": [
      "15801722\n"
     ]
    }
   ],
   "source": [
    "human_delta=w8_acp_sum.human_delta.sum()\n",
    "machine_delta=w8_acp_sum.machine_delta.sum()\n",
    "\n",
    "human_machine_delta=abs(human_delta)-abs(machine_delta)\n",
    "print(human_machine_delta)"
   ]
  },
  {
   "cell_type": "markdown",
   "metadata": {},
   "source": [
    "## Machine & Human Over/Under Estimation Calculation"
   ]
  },
  {
   "cell_type": "code",
   "execution_count": 20,
   "metadata": {},
   "outputs": [
    {
     "name": "stdout",
     "output_type": "stream",
     "text": [
      "machine total underestimation:  18013680 units\n",
      "machine total overestimation:  17526005 units\n",
      "human total underestimation:  12498887 units\n",
      "human total overestimation:  28788284 units\n"
     ]
    }
   ],
   "source": [
    "# Machine Under Estimation Sum\n",
    "machine_under=abs(w8_acp_sum.loc[w8_acp_sum.machine_delta<0, 'machine_delta'].sum())\n",
    "machine_over=w8_acp_sum.loc[w8_acp_sum.machine_delta>0, 'machine_delta'].sum()\n",
    "\n",
    "human_under=abs(w8_acp_sum.loc[w8_acp_sum.human_delta<0, 'human_delta'].sum())\n",
    "human_over=w8_acp_sum.loc[w8_acp_sum.human_delta>0, 'human_delta'].sum()\n",
    "\n",
    "print('machine total underestimation: {: d} units'.format(machine_under))\n",
    "print('machine total overestimation: {: d} units'.format(machine_over))\n",
    "print('human total underestimation: {: d} units'.format(human_under))\n",
    "print('human total overestimation: {: d} units'.format(human_over))"
   ]
  },
  {
   "cell_type": "markdown",
   "metadata": {},
   "source": [
    "# Saving calculation: Estimated saving of Machine over Human"
   ]
  },
  {
   "cell_type": "code",
   "execution_count": 21,
   "metadata": {},
   "outputs": [
    {
     "name": "stdout",
     "output_type": "stream",
     "text": [
      "9.326\n"
     ]
    }
   ],
   "source": [
    "# average price per unit\n",
    "avg_price_unit=np.round(w8_acp_sum.Venta_hoy.sum()/w8_acp_sum.Venta_uni_hoy.sum(),3)\n",
    "print(avg_price_unit)"
   ]
  },
  {
   "cell_type": "code",
   "execution_count": 52,
   "metadata": {},
   "outputs": [
    {
     "name": "stdout",
     "output_type": "stream",
     "text": [
      "estimated saving in mexican peso is 58093122 peso\n",
      "estimated saving in US Dollarsis 4149509 USD\n"
     ]
    }
   ],
   "source": [
    "machine_cost=machine_under*avg_price_unit*0.3+machine_over*avg_price_unit*0.7\n",
    "human_cost=human_under*avg_price_unit*0.3+human_over*avg_price_unit*0.7\n",
    "\n",
    "total_saving_peso=human_cost-machine_cost\n",
    "\n",
    "print('estimated saving in mexican peso is {:.0f} peso'.format(total_saving_peso))\n",
    "\n",
    "\n",
    "#estimated total saving in USD, assuming 14 peso = 1 USD (2014)\n",
    "total_saving_usd=np.round(total_saving_peso/14, 2)\n",
    "print('estimated saving in US Dollarsis {:.0f} USD'.format(total_saving_usd))"
   ]
  },
  {
   "cell_type": "code",
   "execution_count": 27,
   "metadata": {},
   "outputs": [
    {
     "name": "stdout",
     "output_type": "stream",
     "text": [
      "estimated saving in mexican peso is 147366859.37 peso\n",
      "estimated saving in British Pound is 6012519.76 GBP\n",
      "estimated saving in British Pound is 10526204.24 USD\n"
     ]
    }
   ],
   "source": [
    "\n",
    "#estimated total saving in Peso \n",
    "total_saving_peso=avg_price_unit * human_machine_delta\n",
    "print('estimated saving in mexican peso is {:.2f} peso'.format(total_saving_peso))\n",
    "\n",
    "#estimated total saving in GBP, assuming 24.51 peso = 1 GBP\n",
    "total_saving_gbp=np.round(total_saving_peso/24.51, 2)\n",
    "print('estimated saving in British Pound is {:.2f} GBP'.format(total_saving_gbp))\n",
    "\n",
    "#estimated total saving in USD, assuming 14 peso = 1 USD (2014)\n",
    "total_saving_gbp=np.round(total_saving_peso/14, 2)\n",
    "print('estimated saving in British Pound is {:.2f} USD'.format(total_saving_gbp))\n"
   ]
  },
  {
   "cell_type": "code",
   "execution_count": 31,
   "metadata": {},
   "outputs": [
    {
     "name": "stdout",
     "output_type": "stream",
     "text": [
      "269230769.2307692\n"
     ]
    }
   ],
   "source": [
    "turn_off=14000000000.0\n",
    "wc=52.0\n",
    "print(turn_off/wc)"
   ]
  },
  {
   "cell_type": "code",
   "execution_count": null,
   "metadata": {
    "collapsed": true
   },
   "outputs": [],
   "source": [
    "# under prediction weight: 0.3\n",
    "# over prediction weight: 0.7"
   ]
  },
  {
   "cell_type": "markdown",
   "metadata": {},
   "source": [
    "# Saving calculation: Estimated saving per unit product"
   ]
  },
  {
   "cell_type": "code",
   "execution_count": 35,
   "metadata": {},
   "outputs": [
    {
     "name": "stdout",
     "output_type": "stream",
     "text": [
      "there is 1547 unique products\n",
      "Saving per unique product is 1080.84 GBP\n"
     ]
    }
   ],
   "source": [
    "#calculate total amount of unit products in week8\n",
    "nproduct_w8=w8_acp_sum.Producto_ID.nunique()\n",
    "print('there is {} unique products'.format(nproduct_w8))\n",
    "\n",
    "saving_per_product=np.round(total_saving_gbp/nproduct_w8, 2)\n",
    "print('Saving per unique product is {} GBP'.format(saving_per_product))\n"
   ]
  },
  {
   "cell_type": "markdown",
   "metadata": {},
   "source": [
    "# 04/10/2016 load test89 data with st84 results"
   ]
  },
  {
   "cell_type": "code",
   "execution_count": 2,
   "metadata": {
    "collapsed": true
   },
   "outputs": [],
   "source": [
    "st84=feather.read_dataframe('./cv_results/st84_w89.feather')"
   ]
  },
  {
   "cell_type": "code",
   "execution_count": 3,
   "metadata": {},
   "outputs": [
    {
     "data": {
      "text/html": [
       "<div>\n",
       "<table border=\"1\" class=\"dataframe\">\n",
       "  <thead>\n",
       "    <tr style=\"text-align: right;\">\n",
       "      <th></th>\n",
       "      <th>id</th>\n",
       "      <th>demand_pred</th>\n",
       "    </tr>\n",
       "  </thead>\n",
       "  <tbody>\n",
       "    <tr>\n",
       "      <th>0</th>\n",
       "      <td>53364883</td>\n",
       "      <td>3.754</td>\n",
       "    </tr>\n",
       "    <tr>\n",
       "      <th>1</th>\n",
       "      <td>53364884</td>\n",
       "      <td>2.150</td>\n",
       "    </tr>\n",
       "    <tr>\n",
       "      <th>2</th>\n",
       "      <td>53364885</td>\n",
       "      <td>2.880</td>\n",
       "    </tr>\n",
       "    <tr>\n",
       "      <th>3</th>\n",
       "      <td>53364886</td>\n",
       "      <td>2.126</td>\n",
       "    </tr>\n",
       "    <tr>\n",
       "      <th>4</th>\n",
       "      <td>53364887</td>\n",
       "      <td>5.832</td>\n",
       "    </tr>\n",
       "  </tbody>\n",
       "</table>\n",
       "</div>"
      ],
      "text/plain": [
       "         id  demand_pred\n",
       "0  53364883        3.754\n",
       "1  53364884        2.150\n",
       "2  53364885        2.880\n",
       "3  53364886        2.126\n",
       "4  53364887        5.832"
      ]
     },
     "execution_count": 3,
     "metadata": {},
     "output_type": "execute_result"
    }
   ],
   "source": [
    "st84.head()"
   ]
  },
  {
   "cell_type": "code",
   "execution_count": 6,
   "metadata": {},
   "outputs": [],
   "source": [
    "test89=feather.read_dataframe('./data/test89.feather')"
   ]
  },
  {
   "cell_type": "code",
   "execution_count": 9,
   "metadata": {},
   "outputs": [
    {
     "data": {
      "text/plain": [
       "(20815581, 12)"
      ]
     },
     "execution_count": 9,
     "metadata": {},
     "output_type": "execute_result"
    }
   ],
   "source": [
    "test89."
   ]
  },
  {
   "cell_type": "code",
   "execution_count": 11,
   "metadata": {},
   "outputs": [],
   "source": [
    "pred_feat=st84['demand_pred']"
   ]
  },
  {
   "cell_type": "code",
   "execution_count": 12,
   "metadata": {
    "collapsed": true
   },
   "outputs": [],
   "source": [
    "test89=pd.concat([test89, pred_feat], axis=1)"
   ]
  },
  {
   "cell_type": "code",
   "execution_count": 15,
   "metadata": {},
   "outputs": [],
   "source": [
    "feather.write_dataframe(test89, './data/test89_st84pred.feather')"
   ]
  }
 ],
 "metadata": {
  "kernelspec": {
   "display_name": "Python 3",
   "language": "python",
   "name": "python3"
  },
  "language_info": {
   "codemirror_mode": {
    "name": "ipython",
    "version": 3
   },
   "file_extension": ".py",
   "mimetype": "text/x-python",
   "name": "python",
   "nbconvert_exporter": "python",
   "pygments_lexer": "ipython3",
   "version": "3.6.0"
  }
 },
 "nbformat": 4,
 "nbformat_minor": 1
}
